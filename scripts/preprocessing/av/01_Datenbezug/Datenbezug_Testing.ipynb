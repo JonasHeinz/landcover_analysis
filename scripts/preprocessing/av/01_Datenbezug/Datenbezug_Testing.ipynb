{
 "cells": [
  {
   "cell_type": "code",
   "execution_count": null,
   "id": "1fab0267",
   "metadata": {},
   "outputs": [
    {
     "name": "stdout",
     "output_type": "stream",
     "text": [
      "ZH: Konvertiere alle Layer aus 155-maennedorf-gds.itf …\n",
      "ZH: ✅ Fertig – alle ITF-Dateien zu C:\\Users\\aebim\\Documents\\02_Ausbildung\\Studium\\05_Semester\\5230_Geoniformatik_Raumanalyse\\Projektarbeit\\03_GitHub\\data\\preprocessing\\av\\av_gpkg\\ZH.gpkg konvertiert.\n"
     ]
    }
   ],
   "source": [
    "import os\n",
    "import subprocess\n",
    "\n",
    "extract_path = r\"C:\\Users\\aebim\\Documents\\02_Ausbildung\\Studium\\05_Semester\\5230_Geoniformatik_Raumanalyse\\Projektarbeit\\03_GitHub\\data\\preprocessing\\av\\av_downloads\\ZH\"\n",
    "gpkg_path = r\"C:\\Users\\aebim\\Documents\\02_Ausbildung\\Studium\\05_Semester\\5230_Geoniformatik_Raumanalyse\\Projektarbeit\\03_GitHub\\data\\preprocessing\\av\\av_gpkg\"\n",
    "model_dir = r\"C:\\Users\\aebim\\Documents\\02_Ausbildung\\Studium\\05_Semester\\5230_Geoniformatik_Raumanalyse\\Projektarbeit\\03_GitHub\\data\\preprocessing\\av\\av_downloads\\ZH\\DM.01-AV-CH_LV95_24d_ili1.ili\"\n",
    "kanton = \"ZH\"\n",
    "\n",
    "ili_model = \"DM01AVCH24LV95D_ili1\"   # ⚠️ Interlis-1-Modell!\n",
    "epsg_code = \"EPSG:2056\"               # anpassen falls LV03\n",
    "\n",
    "os.makedirs(gpkg_path, exist_ok=True)\n",
    "output_file = os.path.join(gpkg_path, f\"{kanton}.gpkg\")\n",
    "\n",
    "try:\n",
    "    files = [f for f in os.listdir(extract_path) if f.lower().endswith(\".itf\")]\n",
    "    if not files:\n",
    "        print(f\"{kanton}: Keine ITF-Dateien gefunden.\")\n",
    "    else:\n",
    "        for i, file in enumerate(files):\n",
    "            input_file = os.path.join(extract_path, file)\n",
    "            \n",
    "            cmd = [\n",
    "                \"ogr2ogr\", \"-f\", \"GPKG\", output_file,\n",
    "                input_file,\n",
    "                \"--config\", \"INTERLIS_MODEL\", ili_model,\n",
    "                \"--config\", \"OGR_INTERLIS_MODEL_DIR\", model_dir,\n",
    "                \"-a_srs\", epsg_code\n",
    "            ]\n",
    "            cmd.append(\"-overwrite\" if i == 0 else \"-append\")\n",
    "\n",
    "            print(f\"{kanton}: Konvertiere alle Layer aus {file} …\")\n",
    "            subprocess.run(cmd, check=True)\n",
    "\n",
    "        print(f\"{kanton}: ✅ Fertig – alle ITF-Dateien zu {output_file} konvertiert.\")\n",
    "\n",
    "except subprocess.CalledProcessError as e:\n",
    "    print(f\"{kanton}: ogr2ogr Fehler: {e}\")\n",
    "except Exception as e:\n",
    "    print(f\"{kanton}: Fehler bei der Konvertierung – {e}\")\n"
   ]
  },
  {
   "cell_type": "code",
   "execution_count": null,
   "id": "61357165",
   "metadata": {},
   "outputs": [],
   "source": []
  },
  {
   "cell_type": "code",
   "execution_count": null,
   "id": "49c6560f",
   "metadata": {},
   "outputs": [],
   "source": []
  },
  {
   "cell_type": "code",
   "execution_count": null,
   "metadata": {},
   "outputs": [],
   "source": []
  },
  {
   "cell_type": "code",
   "execution_count": null,
   "metadata": {},
   "outputs": [],
   "source": []
  }
 ],
 "metadata": {
  "kernelspec": {
   "display_name": "5230_As",
   "language": "python",
   "name": "python3"
  },
  "language_info": {
   "codemirror_mode": {
    "name": "ipython",
    "version": 3
   },
   "file_extension": ".py",
   "mimetype": "text/x-python",
   "name": "python",
   "nbconvert_exporter": "python",
   "pygments_lexer": "ipython3",
   "version": "3.10.19"
  }
 },
 "nbformat": 4,
 "nbformat_minor": 5
}
