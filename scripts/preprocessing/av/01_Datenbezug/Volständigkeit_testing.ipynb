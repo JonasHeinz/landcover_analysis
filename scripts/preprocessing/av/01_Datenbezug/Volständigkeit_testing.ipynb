{
 "cells": [
  {
   "cell_type": "code",
   "execution_count": null,
   "id": "5f6ad00e",
   "metadata": {},
   "outputs": [],
   "source": []
  },
  {
   "cell_type": "code",
   "execution_count": null,
   "id": "2e4fd811",
   "metadata": {},
   "outputs": [],
   "source": [
    "from io import BytesIO\n",
    "from os.path import basename\n",
    "from requests import get, post\n",
    "from shutil import copyfileobj\n",
    "from time import sleep\n",
    "from zipfile import ZipFile\n",
    "\n",
    "# Get an Italian Geopackage of forest reserves in the Canton of Jura.\n",
    "# To do this, an account is needed, which you can be createt at https://geodienste.ch/register.\n",
    "# Note also that some cantons require permission to download certain data. These permissions can\n",
    "# only be requested via the website. Once permissions are granted, downloading using the API will\n",
    "# be possbile.\n",
    "auth = ('manuel.aebi@students.fhnw.ch', '5230_Geoinformatik!!')\n",
    "\n",
    "# Obtain a download token.\n",
    "response = post(\n",
    "    url='https://geodienste.ch/downloads/av/export',\n",
    "    auth=auth,\n",
    "    params={\n",
    "        'format': 'gpkg',\n",
    "        'cantons': ','.join([\n",
    "            'ZH',\n",
    "        ]),\n",
    "        'locale': 'de'\n",
    "    }\n",
    ")\n",
    "response.raise_for_status()\n",
    "token = response.json()['token']\n",
    "\n",
    "# Start the export\n",
    "response = post(\n",
    "    url=f'https://geodienste.ch/downloads/waldreservate/{token}/export',\n",
    "    auth=auth\n",
    ")\n",
    "response.raise_for_status()\n",
    "\n",
    "# Wait until completed\n",
    "download_url = None\n",
    "while not download_url:\n",
    "    sleep(10)\n",
    "    response = get(\n",
    "        url=f'https://geodienste.ch/downloads/waldreservate/{token}/status.json',\n",
    "        auth=auth\n",
    "    )\n",
    "    response.raise_for_status()\n",
    "    download_url = response.json()['download_url']\n",
    "\n",
    "# Download the zip and extract the gpkg\n",
    "response = get(\n",
    "    download_url,\n",
    "    auth=auth\n",
    ")\n",
    "response.raise_for_status()\n",
    "with ZipFile(BytesIO(response.content)) as file:\n",
    "    for info in file.infolist():\n",
    "        if info.filename.lower().endswith('.gpkg'):\n",
    "            with file.open(info) as source, open(basename(info.filename), 'wb') as target:\n",
    "                copyfileobj(source, target)"
   ]
  },
  {
   "cell_type": "code",
   "execution_count": 1,
   "id": "bcedc045",
   "metadata": {},
   "outputs": [],
   "source": [
    "import geopandas as gpd"
   ]
  },
  {
   "cell_type": "code",
   "execution_count": 3,
   "id": "7b9f6ca2",
   "metadata": {},
   "outputs": [
    {
     "name": "stderr",
     "output_type": "stream",
     "text": [
      "c:\\Users\\aebim\\anaconda3\\envs\\5230_As\\lib\\site-packages\\pyogrio\\geopandas.py:275: UserWarning: More than one layer found in 'swissBOUNDARIES3D_1_5_LV95_LN02.gpkg': 'tlm_hoheitsgrenze' (default), 'tlm_hoheitsgebiet', 'tlm_bezirksgebiet', 'tlm_landesgebiet', 'tlm_kantonsgebiet'. Specify layer parameter to avoid this warning.\n",
      "  result = read_func(\n"
     ]
    },
    {
     "name": "stdout",
     "output_type": "stream",
     "text": [
      "                                     uuid datum_aenderung datum_erstellung  \\\n",
      "0  {F578CEC8-D415-4DE0-8ED3-220D80B228C2}      2024-10-24       2011-01-18   \n",
      "1  {4FBE14E5-D5B7-40B9-AC0B-6255FE7579DA}      2024-10-24       2011-01-18   \n",
      "2  {215CBC30-85B3-4594-B2FB-E0C92F60D2A7}      2024-10-24       2011-01-18   \n",
      "3  {09485723-E3BF-4EE3-8C2F-79EB188061B4}      2024-10-24       2011-01-18   \n",
      "4  {F57A111D-FF52-455D-AE58-34AC39D086D8}      2024-10-24       2010-01-26   \n",
      "\n",
      "   erstellung_jahr  erstellung_monat grund_aenderung   herkunft  \\\n",
      "0             2011                 1      Verbessert  swisstopo   \n",
      "1             2011                 1      Verbessert  swisstopo   \n",
      "2             2011                 1      Verbessert  swisstopo   \n",
      "3             2011                 1      Verbessert  swisstopo   \n",
      "4             2010                 1      Verbessert  swisstopo   \n",
      "\n",
      "   herkunft_jahr  herkunft_monat  revision_jahr  revision_monat  \\\n",
      "0           2025               1           2025               4   \n",
      "1           2025               1           2025               4   \n",
      "2           2025               1           2025               4   \n",
      "3           2025               1           2025               4   \n",
      "4           2025               1           2025               4   \n",
      "\n",
      "  revision_qualitaet objektart icc                      typ  \\\n",
      "0      TGMG_2025_Akt         4  CH                      k_W   \n",
      "1      TGMG_2025_Akt         4  CH                      k_W   \n",
      "2      TGMG_2025_Akt         4  CH                      k_W   \n",
      "3      TGMG_2025_Akt         3  CH                      k_W   \n",
      "4      TGMG_2025_Akt         2  CH  Politisch-administrativ   \n",
      "\n",
      "                                            geometry  \n",
      "0  LINESTRING Z (2643908.611 1196469.505 779.205,...  \n",
      "1  LINESTRING Z (2643908.611 1196469.505 779.205,...  \n",
      "2  LINESTRING Z (2647500.852 1195573.345 1927.384...  \n",
      "3  LINESTRING Z (2624255.28 1185257.21 905.239, 2...  \n",
      "4  LINESTRING Z (2605003.289 1219079.769 461.764,...  \n"
     ]
    }
   ],
   "source": [
    "\n",
    "Gem_df = gpd.read_file(\n",
    "    \"C:/Users/aebim/Documents/02_Ausbildung/Studium/05_Semester/5230_Geoniformatik_Raumanalyse/Projektarbeit/03_GitHub/data/swissBOUNDARIES3D_1_5_LV95_LN02.gpkg\")\n",
    "\n",
    "print(Gem_df.head())"
   ]
  },
  {
   "cell_type": "code",
   "execution_count": 4,
   "id": "04bb59df",
   "metadata": {},
   "outputs": [
    {
     "name": "stdout",
     "output_type": "stream",
     "text": [
      "                                     uuid datum_aenderung datum_erstellung  \\\n",
      "0  {F578CEC8-D415-4DE0-8ED3-220D80B228C2}      2024-10-24       2011-01-18   \n",
      "1  {4FBE14E5-D5B7-40B9-AC0B-6255FE7579DA}      2024-10-24       2011-01-18   \n",
      "2  {215CBC30-85B3-4594-B2FB-E0C92F60D2A7}      2024-10-24       2011-01-18   \n",
      "3  {09485723-E3BF-4EE3-8C2F-79EB188061B4}      2024-10-24       2011-01-18   \n",
      "4  {F57A111D-FF52-455D-AE58-34AC39D086D8}      2024-10-24       2010-01-26   \n",
      "\n",
      "   erstellung_jahr  erstellung_monat grund_aenderung   herkunft  \\\n",
      "0             2011                 1      Verbessert  swisstopo   \n",
      "1             2011                 1      Verbessert  swisstopo   \n",
      "2             2011                 1      Verbessert  swisstopo   \n",
      "3             2011                 1      Verbessert  swisstopo   \n",
      "4             2010                 1      Verbessert  swisstopo   \n",
      "\n",
      "   herkunft_jahr  herkunft_monat  revision_jahr  revision_monat  \\\n",
      "0           2025               1           2025               4   \n",
      "1           2025               1           2025               4   \n",
      "2           2025               1           2025               4   \n",
      "3           2025               1           2025               4   \n",
      "4           2025               1           2025               4   \n",
      "\n",
      "  revision_qualitaet objektart icc                      typ  \\\n",
      "0      TGMG_2025_Akt         4  CH                      k_W   \n",
      "1      TGMG_2025_Akt         4  CH                      k_W   \n",
      "2      TGMG_2025_Akt         4  CH                      k_W   \n",
      "3      TGMG_2025_Akt         3  CH                      k_W   \n",
      "4      TGMG_2025_Akt         2  CH  Politisch-administrativ   \n",
      "\n",
      "                                            geometry  \n",
      "0  LINESTRING Z (2643908.611 1196469.505 779.205,...  \n",
      "1  LINESTRING Z (2643908.611 1196469.505 779.205,...  \n",
      "2  LINESTRING Z (2647500.852 1195573.345 1927.384...  \n",
      "3  LINESTRING Z (2624255.28 1185257.21 905.239, 2...  \n",
      "4  LINESTRING Z (2605003.289 1219079.769 461.764,...  \n"
     ]
    }
   ],
   "source": [
    "Gem_df_CH = Gem_df[Gem_df['icc'] == 'CH']\n",
    "\n",
    "print(Gem_df_CH.head())"
   ]
  },
  {
   "cell_type": "code",
   "execution_count": 5,
   "id": "908ce7f7",
   "metadata": {},
   "outputs": [
    {
     "name": "stdout",
     "output_type": "stream",
     "text": [
      "  BFSNr Qualitaet                      Art GWR_EGID Kanton layer  \\\n",
      "0  6613      AV93             Gartenanlage     None     GE  lcsf   \n",
      "1  6613      AV93                 Trottoir     None     GE  lcsf   \n",
      "2  6613      AV93                 Trottoir     None     GE  lcsf   \n",
      "3  6613      AV93   uebrige_Intensivkultur     None     GE  lcsf   \n",
      "4  6613      AV93  uebrige_vegetationslose     None     GE  lcsf   \n",
      "\n",
      "                                                path  \\\n",
      "0  C:/Users/aebim/Documents/02_Ausbildung/Studium...   \n",
      "1  C:/Users/aebim/Documents/02_Ausbildung/Studium...   \n",
      "2  C:/Users/aebim/Documents/02_Ausbildung/Studium...   \n",
      "3  C:/Users/aebim/Documents/02_Ausbildung/Studium...   \n",
      "4  C:/Users/aebim/Documents/02_Ausbildung/Studium...   \n",
      "\n",
      "                                            geometry  \n",
      "0  MULTIPOLYGON (((2503797.56 1116264.339, 250380...  \n",
      "1  MULTIPOLYGON (((2503804.27 1116259.719, 250380...  \n",
      "2  MULTIPOLYGON (((2503730.247 1116297.118, 25037...  \n",
      "3  MULTIPOLYGON (((2503491.547 1116419.4, 2503492...  \n",
      "4  MULTIPOLYGON (((2503532.726 1116644.049, 25035...  \n"
     ]
    }
   ],
   "source": [
    "BB_df = gpd.read_file(\"C:/Users/aebim/Documents/02_Ausbildung/Studium/05_Semester/5230_Geoniformatik_Raumanalyse/Projektarbeit/05_Daten/BB_CH_Gesamt.gpkg\")\n",
    "\n",
    "print(BB_df.head())"
   ]
  },
  {
   "cell_type": "code",
   "execution_count": 6,
   "id": "22a2ebb5",
   "metadata": {},
   "outputs": [
    {
     "name": "stdout",
     "output_type": "stream",
     "text": [
      "       BFSNr Qualitaet                 Art   GWR_EGID Kanton layer  \\\n",
      "875150  6156      AV93            Gebaeude     929034     VS  lcsf   \n",
      "875153  6153      AV93            Gebaeude  504216988     VS  lcsf   \n",
      "875167  6156      AV93  uebrige_befestigte       None     VS  lcsf   \n",
      "875168  6213      AV93            Gebaeude     936195     VS  lcsf   \n",
      "875169  6213      AV93  uebrige_befestigte       None     VS  lcsf   \n",
      "\n",
      "                                                     path  \\\n",
      "875150  C:/Users/aebim/Documents/02_Ausbildung/Studium...   \n",
      "875153  C:/Users/aebim/Documents/02_Ausbildung/Studium...   \n",
      "875167  C:/Users/aebim/Documents/02_Ausbildung/Studium...   \n",
      "875168  C:/Users/aebim/Documents/02_Ausbildung/Studium...   \n",
      "875169  C:/Users/aebim/Documents/02_Ausbildung/Studium...   \n",
      "\n",
      "                                                 geometry  \n",
      "875150  MULTIPOLYGON (((2555542.76 1120750.08, 2555546...  \n",
      "875153  MULTIPOLYGON (((2563998.987 1122515.36, 256401...  \n",
      "875167  MULTIPOLYGON (((2555542.006 1120741.805, 25555...  \n",
      "875168  MULTIPOLYGON (((2567985.349 1114249.21, 256799...  \n",
      "875169  MULTIPOLYGON (((2567625.32 1114585.869, 256762...  \n"
     ]
    }
   ],
   "source": [
    "BB_df_Vs = BB_df[BB_df['Kanton'] == 'VS']\n",
    "print(BB_df_Vs.head())"
   ]
  },
  {
   "cell_type": "code",
   "execution_count": 7,
   "metadata": {},
   "outputs": [
    {
     "name": "stdout",
     "output_type": "stream",
     "text": [
      "Schnittflächen mit Overlay berechnet erfolgreich.\n"
     ]
    }
   ],
   "source": [
    "differenz = gpd.overlay(Gem_df_CH, BB_df_Vs, how=\"difference\")\n",
    "print(\"Schnittflächen mit Overlay berechnet erfolgreich.\")"
   ]
  },
  {
   "cell_type": "code",
   "execution_count": null,
   "id": "07668dbd",
   "metadata": {},
   "outputs": [
    {
     "ename": "KeyboardInterrupt",
     "evalue": "",
     "output_type": "error",
     "traceback": [
      "\u001b[1;31m---------------------------------------------------------------------------\u001b[0m",
      "\u001b[1;31mKeyboardInterrupt\u001b[0m                         Traceback (most recent call last)",
      "Cell \u001b[1;32mIn[10], line 6\u001b[0m\n\u001b[0;32m      4\u001b[0m Gem_df_CH\u001b[38;5;241m.\u001b[39mplot(ax\u001b[38;5;241m=\u001b[39max, color\u001b[38;5;241m=\u001b[39m\u001b[38;5;124m'\u001b[39m\u001b[38;5;124mlightgrey\u001b[39m\u001b[38;5;124m'\u001b[39m, edgecolor\u001b[38;5;241m=\u001b[39m\u001b[38;5;124m'\u001b[39m\u001b[38;5;124mblack\u001b[39m\u001b[38;5;124m'\u001b[39m, label\u001b[38;5;241m=\u001b[39m\u001b[38;5;124m'\u001b[39m\u001b[38;5;124mGem_df_CH\u001b[39m\u001b[38;5;124m'\u001b[39m)\n\u001b[0;32m      5\u001b[0m BB_df_Vs\u001b[38;5;241m.\u001b[39mplot(ax\u001b[38;5;241m=\u001b[39max, color\u001b[38;5;241m=\u001b[39m\u001b[38;5;124m'\u001b[39m\u001b[38;5;124mred\u001b[39m\u001b[38;5;124m'\u001b[39m, edgecolor\u001b[38;5;241m=\u001b[39m\u001b[38;5;124m'\u001b[39m\u001b[38;5;124mblack\u001b[39m\u001b[38;5;124m'\u001b[39m, alpha\u001b[38;5;241m=\u001b[39m\u001b[38;5;241m0.5\u001b[39m, label\u001b[38;5;241m=\u001b[39m\u001b[38;5;124m'\u001b[39m\u001b[38;5;124mBB_df_Vs\u001b[39m\u001b[38;5;124m'\u001b[39m)\n\u001b[1;32m----> 6\u001b[0m \u001b[43mdifferenz\u001b[49m\u001b[38;5;241;43m.\u001b[39;49m\u001b[43mplot\u001b[49m\u001b[43m(\u001b[49m\u001b[43max\u001b[49m\u001b[38;5;241;43m=\u001b[39;49m\u001b[43max\u001b[49m\u001b[43m,\u001b[49m\u001b[43m \u001b[49m\u001b[43mcolor\u001b[49m\u001b[38;5;241;43m=\u001b[39;49m\u001b[38;5;124;43m'\u001b[39;49m\u001b[38;5;124;43mpink\u001b[39;49m\u001b[38;5;124;43m'\u001b[39;49m\u001b[43m,\u001b[49m\u001b[43m \u001b[49m\u001b[43medgecolor\u001b[49m\u001b[38;5;241;43m=\u001b[39;49m\u001b[38;5;124;43m'\u001b[39;49m\u001b[38;5;124;43mblack\u001b[39;49m\u001b[38;5;124;43m'\u001b[39;49m\u001b[43m,\u001b[49m\u001b[43m \u001b[49m\u001b[43malpha\u001b[49m\u001b[38;5;241;43m=\u001b[39;49m\u001b[38;5;241;43m0.5\u001b[39;49m\u001b[43m,\u001b[49m\u001b[43m \u001b[49m\u001b[43mlabel\u001b[49m\u001b[38;5;241;43m=\u001b[39;49m\u001b[38;5;124;43m'\u001b[39;49m\u001b[38;5;124;43mdifferenz\u001b[39;49m\u001b[38;5;124;43m'\u001b[39;49m\u001b[43m)\u001b[49m\n\u001b[0;32m      8\u001b[0m plt\u001b[38;5;241m.\u001b[39mlegend([\u001b[38;5;124m'\u001b[39m\u001b[38;5;124mGem_df_CH\u001b[39m\u001b[38;5;124m'\u001b[39m, \u001b[38;5;124m'\u001b[39m\u001b[38;5;124mBB_df_Vs\u001b[39m\u001b[38;5;124m'\u001b[39m])\n\u001b[0;32m      9\u001b[0m plt\u001b[38;5;241m.\u001b[39mtitle(\u001b[38;5;124m'\u001b[39m\u001b[38;5;124mGem_df_CH und BB_df_VS\u001b[39m\u001b[38;5;124m'\u001b[39m)\n",
      "File \u001b[1;32mc:\\Users\\aebim\\anaconda3\\envs\\5230_As\\lib\\site-packages\\geopandas\\plotting.py:962\u001b[0m, in \u001b[0;36mGeoplotAccessor.__call__\u001b[1;34m(self, *args, **kwargs)\u001b[0m\n\u001b[0;32m    960\u001b[0m kind \u001b[38;5;241m=\u001b[39m kwargs\u001b[38;5;241m.\u001b[39mpop(\u001b[38;5;124m\"\u001b[39m\u001b[38;5;124mkind\u001b[39m\u001b[38;5;124m\"\u001b[39m, \u001b[38;5;124m\"\u001b[39m\u001b[38;5;124mgeo\u001b[39m\u001b[38;5;124m\"\u001b[39m)\n\u001b[0;32m    961\u001b[0m \u001b[38;5;28;01mif\u001b[39;00m kind \u001b[38;5;241m==\u001b[39m \u001b[38;5;124m\"\u001b[39m\u001b[38;5;124mgeo\u001b[39m\u001b[38;5;124m\"\u001b[39m:\n\u001b[1;32m--> 962\u001b[0m     \u001b[38;5;28;01mreturn\u001b[39;00m plot_dataframe(data, \u001b[38;5;241m*\u001b[39margs, \u001b[38;5;241m*\u001b[39m\u001b[38;5;241m*\u001b[39mkwargs)\n\u001b[0;32m    963\u001b[0m \u001b[38;5;28;01mif\u001b[39;00m kind \u001b[38;5;129;01min\u001b[39;00m \u001b[38;5;28mself\u001b[39m\u001b[38;5;241m.\u001b[39m_pandas_kinds:\n\u001b[0;32m    964\u001b[0m     \u001b[38;5;66;03m# Access pandas plots\u001b[39;00m\n\u001b[0;32m    965\u001b[0m     \u001b[38;5;28;01mreturn\u001b[39;00m PlotAccessor(data)(kind\u001b[38;5;241m=\u001b[39mkind, \u001b[38;5;241m*\u001b[39m\u001b[38;5;241m*\u001b[39mkwargs)\n",
      "File \u001b[1;32mc:\\Users\\aebim\\anaconda3\\envs\\5230_As\\lib\\site-packages\\geopandas\\plotting.py:688\u001b[0m, in \u001b[0;36mplot_dataframe\u001b[1;34m(df, column, cmap, color, ax, cax, categorical, legend, scheme, k, vmin, vmax, markersize, figsize, legend_kwds, categories, classification_kwds, missing_kwds, aspect, autolim, **style_kwds)\u001b[0m\n\u001b[0;32m    685\u001b[0m     markersize \u001b[38;5;241m=\u001b[39m df[markersize]\u001b[38;5;241m.\u001b[39mvalues\n\u001b[0;32m    687\u001b[0m \u001b[38;5;28;01mif\u001b[39;00m column \u001b[38;5;129;01mis\u001b[39;00m \u001b[38;5;28;01mNone\u001b[39;00m:\n\u001b[1;32m--> 688\u001b[0m     \u001b[38;5;28;01mreturn\u001b[39;00m plot_series(\n\u001b[0;32m    689\u001b[0m         df\u001b[38;5;241m.\u001b[39mgeometry,\n\u001b[0;32m    690\u001b[0m         cmap\u001b[38;5;241m=\u001b[39mcmap,\n\u001b[0;32m    691\u001b[0m         color\u001b[38;5;241m=\u001b[39mcolor,\n\u001b[0;32m    692\u001b[0m         ax\u001b[38;5;241m=\u001b[39max,\n\u001b[0;32m    693\u001b[0m         figsize\u001b[38;5;241m=\u001b[39mfigsize,\n\u001b[0;32m    694\u001b[0m         markersize\u001b[38;5;241m=\u001b[39mmarkersize,\n\u001b[0;32m    695\u001b[0m         aspect\u001b[38;5;241m=\u001b[39maspect,\n\u001b[0;32m    696\u001b[0m         autolim\u001b[38;5;241m=\u001b[39mautolim,\n\u001b[0;32m    697\u001b[0m         \u001b[38;5;241m*\u001b[39m\u001b[38;5;241m*\u001b[39mstyle_kwds,\n\u001b[0;32m    698\u001b[0m     )\n\u001b[0;32m    700\u001b[0m \u001b[38;5;66;03m# To accept pd.Series and np.arrays as column\u001b[39;00m\n\u001b[0;32m    701\u001b[0m \u001b[38;5;28;01mif\u001b[39;00m \u001b[38;5;28misinstance\u001b[39m(column, np\u001b[38;5;241m.\u001b[39mndarray \u001b[38;5;241m|\u001b[39m pd\u001b[38;5;241m.\u001b[39mSeries \u001b[38;5;241m|\u001b[39m pd\u001b[38;5;241m.\u001b[39mIndex):\n",
      "File \u001b[1;32mc:\\Users\\aebim\\anaconda3\\envs\\5230_As\\lib\\site-packages\\geopandas\\plotting.py:480\u001b[0m, in \u001b[0;36mplot_series\u001b[1;34m(s, cmap, color, ax, figsize, aspect, autolim, **style_kwds)\u001b[0m\n\u001b[0;32m    474\u001b[0m     color_ \u001b[38;5;241m=\u001b[39m expl_color[point_idx] \u001b[38;5;28;01mif\u001b[39;00m color_given \u001b[38;5;28;01melse\u001b[39;00m color\n\u001b[0;32m    476\u001b[0m     _plot_point_collection(\n\u001b[0;32m    477\u001b[0m         ax, points, values_, color\u001b[38;5;241m=\u001b[39mcolor_, cmap\u001b[38;5;241m=\u001b[39mcmap, \u001b[38;5;241m*\u001b[39m\u001b[38;5;241m*\u001b[39mstyle_kwds\n\u001b[0;32m    478\u001b[0m     )\n\u001b[1;32m--> 480\u001b[0m \u001b[43max\u001b[49m\u001b[38;5;241;43m.\u001b[39;49m\u001b[43mfigure\u001b[49m\u001b[38;5;241;43m.\u001b[39;49m\u001b[43mcanvas\u001b[49m\u001b[38;5;241;43m.\u001b[39;49m\u001b[43mdraw_idle\u001b[49m\u001b[43m(\u001b[49m\u001b[43m)\u001b[49m\n\u001b[0;32m    481\u001b[0m \u001b[38;5;28;01mreturn\u001b[39;00m ax\n",
      "File \u001b[1;32mc:\\Users\\aebim\\anaconda3\\envs\\5230_As\\lib\\site-packages\\matplotlib\\backend_bases.py:1893\u001b[0m, in \u001b[0;36mFigureCanvasBase.draw_idle\u001b[1;34m(self, *args, **kwargs)\u001b[0m\n\u001b[0;32m   1891\u001b[0m \u001b[38;5;28;01mif\u001b[39;00m \u001b[38;5;129;01mnot\u001b[39;00m \u001b[38;5;28mself\u001b[39m\u001b[38;5;241m.\u001b[39m_is_idle_drawing:\n\u001b[0;32m   1892\u001b[0m     \u001b[38;5;28;01mwith\u001b[39;00m \u001b[38;5;28mself\u001b[39m\u001b[38;5;241m.\u001b[39m_idle_draw_cntx():\n\u001b[1;32m-> 1893\u001b[0m         \u001b[38;5;28mself\u001b[39m\u001b[38;5;241m.\u001b[39mdraw(\u001b[38;5;241m*\u001b[39margs, \u001b[38;5;241m*\u001b[39m\u001b[38;5;241m*\u001b[39mkwargs)\n",
      "File \u001b[1;32mc:\\Users\\aebim\\anaconda3\\envs\\5230_As\\lib\\site-packages\\matplotlib\\backends\\backend_agg.py:382\u001b[0m, in \u001b[0;36mFigureCanvasAgg.draw\u001b[1;34m(self)\u001b[0m\n\u001b[0;32m    379\u001b[0m \u001b[38;5;66;03m# Acquire a lock on the shared font cache.\u001b[39;00m\n\u001b[0;32m    380\u001b[0m \u001b[38;5;28;01mwith\u001b[39;00m (\u001b[38;5;28mself\u001b[39m\u001b[38;5;241m.\u001b[39mtoolbar\u001b[38;5;241m.\u001b[39m_wait_cursor_for_draw_cm() \u001b[38;5;28;01mif\u001b[39;00m \u001b[38;5;28mself\u001b[39m\u001b[38;5;241m.\u001b[39mtoolbar\n\u001b[0;32m    381\u001b[0m       \u001b[38;5;28;01melse\u001b[39;00m nullcontext()):\n\u001b[1;32m--> 382\u001b[0m     \u001b[38;5;28;43mself\u001b[39;49m\u001b[38;5;241;43m.\u001b[39;49m\u001b[43mfigure\u001b[49m\u001b[38;5;241;43m.\u001b[39;49m\u001b[43mdraw\u001b[49m\u001b[43m(\u001b[49m\u001b[38;5;28;43mself\u001b[39;49m\u001b[38;5;241;43m.\u001b[39;49m\u001b[43mrenderer\u001b[49m\u001b[43m)\u001b[49m\n\u001b[0;32m    383\u001b[0m     \u001b[38;5;66;03m# A GUI class may be need to update a window using this draw, so\u001b[39;00m\n\u001b[0;32m    384\u001b[0m     \u001b[38;5;66;03m# don't forget to call the superclass.\u001b[39;00m\n\u001b[0;32m    385\u001b[0m     \u001b[38;5;28msuper\u001b[39m()\u001b[38;5;241m.\u001b[39mdraw()\n",
      "File \u001b[1;32mc:\\Users\\aebim\\anaconda3\\envs\\5230_As\\lib\\site-packages\\matplotlib\\artist.py:94\u001b[0m, in \u001b[0;36m_finalize_rasterization.<locals>.draw_wrapper\u001b[1;34m(artist, renderer, *args, **kwargs)\u001b[0m\n\u001b[0;32m     92\u001b[0m \u001b[38;5;129m@wraps\u001b[39m(draw)\n\u001b[0;32m     93\u001b[0m \u001b[38;5;28;01mdef\u001b[39;00m\u001b[38;5;250m \u001b[39m\u001b[38;5;21mdraw_wrapper\u001b[39m(artist, renderer, \u001b[38;5;241m*\u001b[39margs, \u001b[38;5;241m*\u001b[39m\u001b[38;5;241m*\u001b[39mkwargs):\n\u001b[1;32m---> 94\u001b[0m     result \u001b[38;5;241m=\u001b[39m draw(artist, renderer, \u001b[38;5;241m*\u001b[39margs, \u001b[38;5;241m*\u001b[39m\u001b[38;5;241m*\u001b[39mkwargs)\n\u001b[0;32m     95\u001b[0m     \u001b[38;5;28;01mif\u001b[39;00m renderer\u001b[38;5;241m.\u001b[39m_rasterizing:\n\u001b[0;32m     96\u001b[0m         renderer\u001b[38;5;241m.\u001b[39mstop_rasterizing()\n",
      "File \u001b[1;32mc:\\Users\\aebim\\anaconda3\\envs\\5230_As\\lib\\site-packages\\matplotlib\\artist.py:71\u001b[0m, in \u001b[0;36mallow_rasterization.<locals>.draw_wrapper\u001b[1;34m(artist, renderer)\u001b[0m\n\u001b[0;32m     68\u001b[0m     \u001b[38;5;28;01mif\u001b[39;00m artist\u001b[38;5;241m.\u001b[39mget_agg_filter() \u001b[38;5;129;01mis\u001b[39;00m \u001b[38;5;129;01mnot\u001b[39;00m \u001b[38;5;28;01mNone\u001b[39;00m:\n\u001b[0;32m     69\u001b[0m         renderer\u001b[38;5;241m.\u001b[39mstart_filter()\n\u001b[1;32m---> 71\u001b[0m     \u001b[38;5;28;01mreturn\u001b[39;00m \u001b[43mdraw\u001b[49m\u001b[43m(\u001b[49m\u001b[43martist\u001b[49m\u001b[43m,\u001b[49m\u001b[43m \u001b[49m\u001b[43mrenderer\u001b[49m\u001b[43m)\u001b[49m\n\u001b[0;32m     72\u001b[0m \u001b[38;5;28;01mfinally\u001b[39;00m:\n\u001b[0;32m     73\u001b[0m     \u001b[38;5;28;01mif\u001b[39;00m artist\u001b[38;5;241m.\u001b[39mget_agg_filter() \u001b[38;5;129;01mis\u001b[39;00m \u001b[38;5;129;01mnot\u001b[39;00m \u001b[38;5;28;01mNone\u001b[39;00m:\n",
      "File \u001b[1;32mc:\\Users\\aebim\\anaconda3\\envs\\5230_As\\lib\\site-packages\\matplotlib\\figure.py:3257\u001b[0m, in \u001b[0;36mFigure.draw\u001b[1;34m(self, renderer)\u001b[0m\n\u001b[0;32m   3254\u001b[0m             \u001b[38;5;66;03m# ValueError can occur when resizing a window.\u001b[39;00m\n\u001b[0;32m   3256\u001b[0m     \u001b[38;5;28mself\u001b[39m\u001b[38;5;241m.\u001b[39mpatch\u001b[38;5;241m.\u001b[39mdraw(renderer)\n\u001b[1;32m-> 3257\u001b[0m     \u001b[43mmimage\u001b[49m\u001b[38;5;241;43m.\u001b[39;49m\u001b[43m_draw_list_compositing_images\u001b[49m\u001b[43m(\u001b[49m\n\u001b[0;32m   3258\u001b[0m \u001b[43m        \u001b[49m\u001b[43mrenderer\u001b[49m\u001b[43m,\u001b[49m\u001b[43m \u001b[49m\u001b[38;5;28;43mself\u001b[39;49m\u001b[43m,\u001b[49m\u001b[43m \u001b[49m\u001b[43martists\u001b[49m\u001b[43m,\u001b[49m\u001b[43m \u001b[49m\u001b[38;5;28;43mself\u001b[39;49m\u001b[38;5;241;43m.\u001b[39;49m\u001b[43msuppressComposite\u001b[49m\u001b[43m)\u001b[49m\n\u001b[0;32m   3260\u001b[0m     renderer\u001b[38;5;241m.\u001b[39mclose_group(\u001b[38;5;124m'\u001b[39m\u001b[38;5;124mfigure\u001b[39m\u001b[38;5;124m'\u001b[39m)\n\u001b[0;32m   3261\u001b[0m \u001b[38;5;28;01mfinally\u001b[39;00m:\n",
      "File \u001b[1;32mc:\\Users\\aebim\\anaconda3\\envs\\5230_As\\lib\\site-packages\\matplotlib\\image.py:134\u001b[0m, in \u001b[0;36m_draw_list_compositing_images\u001b[1;34m(renderer, parent, artists, suppress_composite)\u001b[0m\n\u001b[0;32m    132\u001b[0m \u001b[38;5;28;01mif\u001b[39;00m not_composite \u001b[38;5;129;01mor\u001b[39;00m \u001b[38;5;129;01mnot\u001b[39;00m has_images:\n\u001b[0;32m    133\u001b[0m     \u001b[38;5;28;01mfor\u001b[39;00m a \u001b[38;5;129;01min\u001b[39;00m artists:\n\u001b[1;32m--> 134\u001b[0m         \u001b[43ma\u001b[49m\u001b[38;5;241;43m.\u001b[39;49m\u001b[43mdraw\u001b[49m\u001b[43m(\u001b[49m\u001b[43mrenderer\u001b[49m\u001b[43m)\u001b[49m\n\u001b[0;32m    135\u001b[0m \u001b[38;5;28;01melse\u001b[39;00m:\n\u001b[0;32m    136\u001b[0m     \u001b[38;5;66;03m# Composite any adjacent images together\u001b[39;00m\n\u001b[0;32m    137\u001b[0m     image_group \u001b[38;5;241m=\u001b[39m []\n",
      "File \u001b[1;32mc:\\Users\\aebim\\anaconda3\\envs\\5230_As\\lib\\site-packages\\matplotlib\\artist.py:71\u001b[0m, in \u001b[0;36mallow_rasterization.<locals>.draw_wrapper\u001b[1;34m(artist, renderer)\u001b[0m\n\u001b[0;32m     68\u001b[0m     \u001b[38;5;28;01mif\u001b[39;00m artist\u001b[38;5;241m.\u001b[39mget_agg_filter() \u001b[38;5;129;01mis\u001b[39;00m \u001b[38;5;129;01mnot\u001b[39;00m \u001b[38;5;28;01mNone\u001b[39;00m:\n\u001b[0;32m     69\u001b[0m         renderer\u001b[38;5;241m.\u001b[39mstart_filter()\n\u001b[1;32m---> 71\u001b[0m     \u001b[38;5;28;01mreturn\u001b[39;00m \u001b[43mdraw\u001b[49m\u001b[43m(\u001b[49m\u001b[43martist\u001b[49m\u001b[43m,\u001b[49m\u001b[43m \u001b[49m\u001b[43mrenderer\u001b[49m\u001b[43m)\u001b[49m\n\u001b[0;32m     72\u001b[0m \u001b[38;5;28;01mfinally\u001b[39;00m:\n\u001b[0;32m     73\u001b[0m     \u001b[38;5;28;01mif\u001b[39;00m artist\u001b[38;5;241m.\u001b[39mget_agg_filter() \u001b[38;5;129;01mis\u001b[39;00m \u001b[38;5;129;01mnot\u001b[39;00m \u001b[38;5;28;01mNone\u001b[39;00m:\n",
      "File \u001b[1;32mc:\\Users\\aebim\\anaconda3\\envs\\5230_As\\lib\\site-packages\\matplotlib\\axes\\_base.py:3226\u001b[0m, in \u001b[0;36m_AxesBase.draw\u001b[1;34m(self, renderer)\u001b[0m\n\u001b[0;32m   3223\u001b[0m \u001b[38;5;28;01mif\u001b[39;00m artists_rasterized:\n\u001b[0;32m   3224\u001b[0m     _draw_rasterized(\u001b[38;5;28mself\u001b[39m\u001b[38;5;241m.\u001b[39mget_figure(root\u001b[38;5;241m=\u001b[39m\u001b[38;5;28;01mTrue\u001b[39;00m), artists_rasterized, renderer)\n\u001b[1;32m-> 3226\u001b[0m \u001b[43mmimage\u001b[49m\u001b[38;5;241;43m.\u001b[39;49m\u001b[43m_draw_list_compositing_images\u001b[49m\u001b[43m(\u001b[49m\n\u001b[0;32m   3227\u001b[0m \u001b[43m    \u001b[49m\u001b[43mrenderer\u001b[49m\u001b[43m,\u001b[49m\u001b[43m \u001b[49m\u001b[38;5;28;43mself\u001b[39;49m\u001b[43m,\u001b[49m\u001b[43m \u001b[49m\u001b[43martists\u001b[49m\u001b[43m,\u001b[49m\u001b[43m \u001b[49m\u001b[38;5;28;43mself\u001b[39;49m\u001b[38;5;241;43m.\u001b[39;49m\u001b[43mget_figure\u001b[49m\u001b[43m(\u001b[49m\u001b[43mroot\u001b[49m\u001b[38;5;241;43m=\u001b[39;49m\u001b[38;5;28;43;01mTrue\u001b[39;49;00m\u001b[43m)\u001b[49m\u001b[38;5;241;43m.\u001b[39;49m\u001b[43msuppressComposite\u001b[49m\u001b[43m)\u001b[49m\n\u001b[0;32m   3229\u001b[0m renderer\u001b[38;5;241m.\u001b[39mclose_group(\u001b[38;5;124m'\u001b[39m\u001b[38;5;124maxes\u001b[39m\u001b[38;5;124m'\u001b[39m)\n\u001b[0;32m   3230\u001b[0m \u001b[38;5;28mself\u001b[39m\u001b[38;5;241m.\u001b[39mstale \u001b[38;5;241m=\u001b[39m \u001b[38;5;28;01mFalse\u001b[39;00m\n",
      "File \u001b[1;32mc:\\Users\\aebim\\anaconda3\\envs\\5230_As\\lib\\site-packages\\matplotlib\\image.py:134\u001b[0m, in \u001b[0;36m_draw_list_compositing_images\u001b[1;34m(renderer, parent, artists, suppress_composite)\u001b[0m\n\u001b[0;32m    132\u001b[0m \u001b[38;5;28;01mif\u001b[39;00m not_composite \u001b[38;5;129;01mor\u001b[39;00m \u001b[38;5;129;01mnot\u001b[39;00m has_images:\n\u001b[0;32m    133\u001b[0m     \u001b[38;5;28;01mfor\u001b[39;00m a \u001b[38;5;129;01min\u001b[39;00m artists:\n\u001b[1;32m--> 134\u001b[0m         \u001b[43ma\u001b[49m\u001b[38;5;241;43m.\u001b[39;49m\u001b[43mdraw\u001b[49m\u001b[43m(\u001b[49m\u001b[43mrenderer\u001b[49m\u001b[43m)\u001b[49m\n\u001b[0;32m    135\u001b[0m \u001b[38;5;28;01melse\u001b[39;00m:\n\u001b[0;32m    136\u001b[0m     \u001b[38;5;66;03m# Composite any adjacent images together\u001b[39;00m\n\u001b[0;32m    137\u001b[0m     image_group \u001b[38;5;241m=\u001b[39m []\n",
      "File \u001b[1;32mc:\\Users\\aebim\\anaconda3\\envs\\5230_As\\lib\\site-packages\\matplotlib\\artist.py:71\u001b[0m, in \u001b[0;36mallow_rasterization.<locals>.draw_wrapper\u001b[1;34m(artist, renderer)\u001b[0m\n\u001b[0;32m     68\u001b[0m     \u001b[38;5;28;01mif\u001b[39;00m artist\u001b[38;5;241m.\u001b[39mget_agg_filter() \u001b[38;5;129;01mis\u001b[39;00m \u001b[38;5;129;01mnot\u001b[39;00m \u001b[38;5;28;01mNone\u001b[39;00m:\n\u001b[0;32m     69\u001b[0m         renderer\u001b[38;5;241m.\u001b[39mstart_filter()\n\u001b[1;32m---> 71\u001b[0m     \u001b[38;5;28;01mreturn\u001b[39;00m \u001b[43mdraw\u001b[49m\u001b[43m(\u001b[49m\u001b[43martist\u001b[49m\u001b[43m,\u001b[49m\u001b[43m \u001b[49m\u001b[43mrenderer\u001b[49m\u001b[43m)\u001b[49m\n\u001b[0;32m     72\u001b[0m \u001b[38;5;28;01mfinally\u001b[39;00m:\n\u001b[0;32m     73\u001b[0m     \u001b[38;5;28;01mif\u001b[39;00m artist\u001b[38;5;241m.\u001b[39mget_agg_filter() \u001b[38;5;129;01mis\u001b[39;00m \u001b[38;5;129;01mnot\u001b[39;00m \u001b[38;5;28;01mNone\u001b[39;00m:\n",
      "File \u001b[1;32mc:\\Users\\aebim\\anaconda3\\envs\\5230_As\\lib\\site-packages\\matplotlib\\collections.py:430\u001b[0m, in \u001b[0;36mCollection.draw\u001b[1;34m(self, renderer)\u001b[0m\n\u001b[0;32m    421\u001b[0m         ipaths, ilinestyles \u001b[38;5;241m=\u001b[39m \u001b[38;5;28mself\u001b[39m\u001b[38;5;241m.\u001b[39m_get_inverse_paths_linestyles()\n\u001b[0;32m    422\u001b[0m         renderer\u001b[38;5;241m.\u001b[39mdraw_path_collection(\n\u001b[0;32m    423\u001b[0m             gc, transform\u001b[38;5;241m.\u001b[39mfrozen(), ipaths,\n\u001b[0;32m    424\u001b[0m             \u001b[38;5;28mself\u001b[39m\u001b[38;5;241m.\u001b[39mget_transforms(), offsets, offset_trf,\n\u001b[1;32m   (...)\u001b[0m\n\u001b[0;32m    427\u001b[0m             \u001b[38;5;28mself\u001b[39m\u001b[38;5;241m.\u001b[39m_antialiaseds, \u001b[38;5;28mself\u001b[39m\u001b[38;5;241m.\u001b[39m_urls,\n\u001b[0;32m    428\u001b[0m             \u001b[38;5;124m\"\u001b[39m\u001b[38;5;124mscreen\u001b[39m\u001b[38;5;124m\"\u001b[39m)\n\u001b[1;32m--> 430\u001b[0m     \u001b[43mrenderer\u001b[49m\u001b[38;5;241;43m.\u001b[39;49m\u001b[43mdraw_path_collection\u001b[49m\u001b[43m(\u001b[49m\n\u001b[0;32m    431\u001b[0m \u001b[43m        \u001b[49m\u001b[43mgc\u001b[49m\u001b[43m,\u001b[49m\u001b[43m \u001b[49m\u001b[43mtransform\u001b[49m\u001b[38;5;241;43m.\u001b[39;49m\u001b[43mfrozen\u001b[49m\u001b[43m(\u001b[49m\u001b[43m)\u001b[49m\u001b[43m,\u001b[49m\u001b[43m \u001b[49m\u001b[43mpaths\u001b[49m\u001b[43m,\u001b[49m\n\u001b[0;32m    432\u001b[0m \u001b[43m        \u001b[49m\u001b[38;5;28;43mself\u001b[39;49m\u001b[38;5;241;43m.\u001b[39;49m\u001b[43mget_transforms\u001b[49m\u001b[43m(\u001b[49m\u001b[43m)\u001b[49m\u001b[43m,\u001b[49m\u001b[43m \u001b[49m\u001b[43moffsets\u001b[49m\u001b[43m,\u001b[49m\u001b[43m \u001b[49m\u001b[43moffset_trf\u001b[49m\u001b[43m,\u001b[49m\n\u001b[0;32m    433\u001b[0m \u001b[43m        \u001b[49m\u001b[38;5;28;43mself\u001b[39;49m\u001b[38;5;241;43m.\u001b[39;49m\u001b[43mget_facecolor\u001b[49m\u001b[43m(\u001b[49m\u001b[43m)\u001b[49m\u001b[43m,\u001b[49m\u001b[43m \u001b[49m\u001b[38;5;28;43mself\u001b[39;49m\u001b[38;5;241;43m.\u001b[39;49m\u001b[43mget_edgecolor\u001b[49m\u001b[43m(\u001b[49m\u001b[43m)\u001b[49m\u001b[43m,\u001b[49m\n\u001b[0;32m    434\u001b[0m \u001b[43m        \u001b[49m\u001b[38;5;28;43mself\u001b[39;49m\u001b[38;5;241;43m.\u001b[39;49m\u001b[43m_linewidths\u001b[49m\u001b[43m,\u001b[49m\u001b[43m \u001b[49m\u001b[38;5;28;43mself\u001b[39;49m\u001b[38;5;241;43m.\u001b[39;49m\u001b[43m_linestyles\u001b[49m\u001b[43m,\u001b[49m\n\u001b[0;32m    435\u001b[0m \u001b[43m        \u001b[49m\u001b[38;5;28;43mself\u001b[39;49m\u001b[38;5;241;43m.\u001b[39;49m\u001b[43m_antialiaseds\u001b[49m\u001b[43m,\u001b[49m\u001b[43m \u001b[49m\u001b[38;5;28;43mself\u001b[39;49m\u001b[38;5;241;43m.\u001b[39;49m\u001b[43m_urls\u001b[49m\u001b[43m,\u001b[49m\n\u001b[0;32m    436\u001b[0m \u001b[43m        \u001b[49m\u001b[38;5;124;43m\"\u001b[39;49m\u001b[38;5;124;43mscreen\u001b[39;49m\u001b[38;5;124;43m\"\u001b[39;49m\u001b[43m)\u001b[49m  \u001b[38;5;66;03m# offset_position, kept for backcompat.\u001b[39;00m\n\u001b[0;32m    438\u001b[0m gc\u001b[38;5;241m.\u001b[39mrestore()\n\u001b[0;32m    439\u001b[0m renderer\u001b[38;5;241m.\u001b[39mclose_group(\u001b[38;5;28mself\u001b[39m\u001b[38;5;241m.\u001b[39m\u001b[38;5;18m__class__\u001b[39m\u001b[38;5;241m.\u001b[39m\u001b[38;5;18m__name__\u001b[39m)\n",
      "File \u001b[1;32mc:\\Users\\aebim\\anaconda3\\envs\\5230_As\\lib\\site-packages\\matplotlib\\path.py:223\u001b[0m, in \u001b[0;36mPath.codes\u001b[1;34m(self)\u001b[0m\n\u001b[0;32m    220\u001b[0m     \u001b[38;5;28mself\u001b[39m\u001b[38;5;241m.\u001b[39m_vertices \u001b[38;5;241m=\u001b[39m vertices\n\u001b[0;32m    221\u001b[0m     \u001b[38;5;28mself\u001b[39m\u001b[38;5;241m.\u001b[39m_update_values()\n\u001b[1;32m--> 223\u001b[0m \u001b[38;5;129m@property\u001b[39m\n\u001b[0;32m    224\u001b[0m \u001b[38;5;28;01mdef\u001b[39;00m\u001b[38;5;250m \u001b[39m\u001b[38;5;21mcodes\u001b[39m(\u001b[38;5;28mself\u001b[39m):\n\u001b[0;32m    225\u001b[0m \u001b[38;5;250m    \u001b[39m\u001b[38;5;124;03m\"\"\"\u001b[39;00m\n\u001b[0;32m    226\u001b[0m \u001b[38;5;124;03m    The list of codes in the `Path` as a 1D array.\u001b[39;00m\n\u001b[0;32m    227\u001b[0m \n\u001b[1;32m   (...)\u001b[0m\n\u001b[0;32m    231\u001b[0m \u001b[38;5;124;03m    of `vertices` and `codes` is always the same.\u001b[39;00m\n\u001b[0;32m    232\u001b[0m \u001b[38;5;124;03m    \"\"\"\u001b[39;00m\n\u001b[0;32m    233\u001b[0m     \u001b[38;5;28;01mreturn\u001b[39;00m \u001b[38;5;28mself\u001b[39m\u001b[38;5;241m.\u001b[39m_codes\n",
      "\u001b[1;31mKeyboardInterrupt\u001b[0m: "
     ]
    }
   ],
   "source": [
    "# ...existing code...\n",
    "import matplotlib.pyplot as plt\n",
    "\n",
    "# ensure same CRS\n",
    "if Gem_df_CH.crs != BB_df_Vs.crs:\n",
    "    BB_df_Vs = BB_df_Vs.to_crs(Gem_df_CH.crs)\n",
    "\n",
    "fig, ax = plt.subplots(figsize=(10, 10))\n",
    "\n",
    "differenz.plot(ax=ax, color='pink', edgecolor='none', alpha=0.6, label='Gem_df_CH minus BB_df_Vs')\n",
    "BB_df_Vs.plot(ax=ax, facecolor='none', edgecolor='red', linewidth=0.8, label='BB_df_Vs')\n",
    "\n",
    "ax.legend()\n",
    "ax.set_title('Gem_df_CH und BB_df_VS (difference)')\n",
    "ax.set_axis_off()\n",
    "plt.show()\n",
    "# ...existing code..."
   ]
  },
  {
   "cell_type": "code",
   "execution_count": null,
   "id": "75c106fe",
   "metadata": {},
   "outputs": [],
   "source": [
    "differenz.to_file(\n",
    "    \"C:\\Users\\aebim\\Documents\\02_Ausbildung\\Studium\\05_Semester\\5230_Geoniformatik_Raumanalyse\\Projektarbeit\\03_GitHub\\data\\preprocessing\\av\\04_Vollstaendigkeit/keine_BB.gpkg\",\n",
    "    driver=\"GPKG\")"
   ]
  },
  {
   "cell_type": "code",
   "execution_count": 9,
   "metadata": {},
   "outputs": [
    {
     "name": "stdout",
     "output_type": "stream",
     "text": [
      "Gem_df_CH columns: ['uuid', 'datum_aenderung', 'datum_erstellung', 'erstellung_jahr', 'erstellung_monat', 'grund_aenderung', 'herkunft', 'herkunft_jahr', 'herkunft_monat', 'revision_jahr', 'revision_monat', 'revision_qualitaet', 'objektart', 'icc', 'typ', 'geometry']\n",
      "BB_df_Vs  columns: ['BFSNr', 'Qualitaet', 'Art', 'GWR_EGID', 'Kanton', 'layer', 'path', 'geometry']\n"
     ]
    }
   ],
   "source": [
    "# ...existing code...\n",
    "\n",
    "# show field names\n",
    "print(\"Gem_df_CH columns:\", Gem_df_CH.columns.tolist())\n",
    "print(\"BB_df_Vs  columns:\", BB_df_Vs.columns.tolist())\n"
   ]
  },
  {
   "cell_type": "code",
   "execution_count": null,
   "metadata": {},
   "outputs": [],
   "source": []
  }
 ],
 "metadata": {
  "kernelspec": {
   "display_name": "5230_As",
   "language": "python",
   "name": "python3"
  },
  "language_info": {
   "codemirror_mode": {
    "name": "ipython",
    "version": 3
   },
   "file_extension": ".py",
   "mimetype": "text/x-python",
   "name": "python",
   "nbconvert_exporter": "python",
   "pygments_lexer": "ipython3",
   "version": "3.10.19"
  }
 },
 "nbformat": 4,
 "nbformat_minor": 5
}
