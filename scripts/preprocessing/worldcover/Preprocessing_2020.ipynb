{
 "cells": [
  {
   "cell_type": "markdown",
   "id": "0eac87d6",
   "metadata": {},
   "source": [
    "Hello and welcome to the WorldCover Preprocessing Notebook!"
   ]
  },
  {
   "cell_type": "markdown",
   "id": "ac379997",
   "metadata": {},
   "source": [
    "Create a python envionment with the Version 3.10:\n",
    "i.E. :\n",
    "conda create -n WC python=3.10\n",
    "activate with:\n",
    "conda activate WorldCover\n",
    "conda install -c conda-forge rasterio geopandas shapely fiona pyproj gdal\n"
   ]
  },
  {
   "cell_type": "markdown",
   "id": "9a6873d4",
   "metadata": {},
   "source": [
    "load the border file using geopandas and check its CRS"
   ]
  },
  {
   "cell_type": "code",
   "execution_count": 1,
   "id": "29745a80",
   "metadata": {},
   "outputs": [],
   "source": [
    "# Change to your environment variables for PROJ and GDAL to ensure proper functioning of geospatial libraries.\n",
    "import os\n",
    "os.environ[\"PROJ_LIB\"] = r\"C:\\Users\\alexa\\anaconda3\\envs\\WC\\Library\\share\\proj\"\n",
    "os.environ[\"GDAL_DATA\"] = r\"C:\\Users\\alexa\\anaconda3\\envs\\WC\\Library\\share\\gdal\"\n",
    "\n",
    "import geopandas as gpd\n",
    "import rasterio"
   ]
  },
  {
   "cell_type": "code",
   "execution_count": 2,
   "id": "de676639",
   "metadata": {},
   "outputs": [
    {
     "name": "stdout",
     "output_type": "stream",
     "text": [
      "EPSG:2056\n"
     ]
    }
   ],
   "source": [
    "import geopandas as gpd\n",
    "\n",
    "# Replace with your actual file path and layer name if necessary\n",
    "gpkg_path = \"data/swissBOUNDARIES3D_1_5_LV95_LN02.gpkg\"\n",
    "border_gdf = gpd.read_file(gpkg_path)\n",
    "print(border_gdf.crs)  # Check the CRS\n"
   ]
  },
  {
   "cell_type": "markdown",
   "id": "823c9b16",
   "metadata": {},
   "source": [
    "Crate a buffer of 1 kilometers around the border"
   ]
  },
  {
   "cell_type": "code",
   "execution_count": 3,
   "id": "dc89a600",
   "metadata": {},
   "outputs": [],
   "source": [
    "buffered_border_gdf = border_gdf.copy()\n",
    "buffered_border_gdf[\"geometry\"] = buffered_border_gdf.buffer(1000)\n"
   ]
  },
  {
   "cell_type": "markdown",
   "id": "af6a6508",
   "metadata": {},
   "source": [
    "fill the holes in the border geometry (optional)"
   ]
  },
  {
   "cell_type": "code",
   "execution_count": 4,
   "id": "8c5407b6",
   "metadata": {},
   "outputs": [
    {
     "name": "stderr",
     "output_type": "stream",
     "text": [
      "C:\\Users\\alexa\\AppData\\Local\\Temp\\ipykernel_2116\\323703650.py:4: ShapelyDeprecationWarning: The 'type' attribute is deprecated, and will be removed in the future. You can use the 'geom_type' attribute instead.\n",
      "  return Polygon(geom.exterior) if geom.type == 'Polygon' else MultiPolygon([Polygon(g.exterior) for g in geom.geoms])\n"
     ]
    }
   ],
   "source": [
    "from shapely.geometry import Polygon, MultiPolygon\n",
    "\n",
    "def fill_all_holes(geom):\n",
    "    return Polygon(geom.exterior) if geom.type == 'Polygon' else MultiPolygon([Polygon(g.exterior) for g in geom.geoms])\n",
    "\n",
    "buffered_border_gdf[\"geometry\"] = buffered_border_gdf.geometry.apply(fill_all_holes)\n"
   ]
  },
  {
   "cell_type": "markdown",
   "id": "ccbf6238",
   "metadata": {},
   "source": [
    "Save the buffered geopackage"
   ]
  },
  {
   "cell_type": "code",
   "execution_count": 5,
   "id": "db4f3f36",
   "metadata": {},
   "outputs": [],
   "source": [
    "buffered_border_gdf.to_file(\"data/swiss_border_buffered_1km.gpkg\", driver=\"GPKG\")\n",
    "\n"
   ]
  },
  {
   "cell_type": "markdown",
   "id": "b9fd7add",
   "metadata": {},
   "source": [
    "load the raster files"
   ]
  },
  {
   "cell_type": "code",
   "execution_count": 6,
   "id": "6707ca99",
   "metadata": {},
   "outputs": [
    {
     "name": "stdout",
     "output_type": "stream",
     "text": [
      "['data/2020/raw_tiles\\\\ESA_WorldCover_10m_2020_v100_N45E003_Map.tif', 'data/2020/raw_tiles\\\\ESA_WorldCover_10m_2020_v100_N45E006_Map.tif', 'data/2020/raw_tiles\\\\ESA_WorldCover_10m_2020_v100_N45E009_Map.tif']\n"
     ]
    }
   ],
   "source": [
    "import rasterio\n",
    "from rasterio.merge import merge\n",
    "from rasterio.plot import show\n",
    "import glob\n",
    "\n",
    "# Replace this with your actual folder containing the 3 WorldCover rasters\n",
    "raster_folder = \"data/2020/raw_tiles/\"\n",
    "\n",
    "# List all .tif files in the folder\n",
    "raster_files = glob.glob(raster_folder + \"*.tif\") #\n",
    "\n",
    "# Verify that three tiles were found\n",
    "print(raster_files)\n"
   ]
  },
  {
   "cell_type": "markdown",
   "id": "1abc9c21",
   "metadata": {},
   "source": [
    "open and merge the raster files"
   ]
  },
  {
   "cell_type": "code",
   "execution_count": 7,
   "id": "d7600432",
   "metadata": {},
   "outputs": [],
   "source": [
    "src_files_to_mosaic = [rasterio.open(fp) for fp in raster_files]\n",
    "mosaic, mosaic_transform = merge(src_files_to_mosaic)\n"
   ]
  },
  {
   "cell_type": "markdown",
   "id": "a397144e",
   "metadata": {},
   "source": [
    "Copy metadata from one source raster"
   ]
  },
  {
   "cell_type": "code",
   "execution_count": 8,
   "id": "cd863f72",
   "metadata": {},
   "outputs": [],
   "source": [
    "out_meta = src_files_to_mosaic[0].meta.copy()\n",
    "out_meta.update({\n",
    "    \"driver\": \"GTiff\",\n",
    "    \"height\": mosaic.shape[1],\n",
    "    \"width\": mosaic.shape[2],\n",
    "    \"transform\": mosaic_transform,\n",
    "    \"crs\": src_files_to_mosaic[0].crs\n",
    "})\n"
   ]
  },
  {
   "cell_type": "markdown",
   "id": "7101ede8",
   "metadata": {},
   "source": [
    "Save the merged raster"
   ]
  },
  {
   "cell_type": "code",
   "execution_count": 9,
   "id": "ca5fd138",
   "metadata": {},
   "outputs": [],
   "source": [
    "# Save as GeoTIFF (still in EPSG:4326)\n",
    "out_fp = \"data/2020/preprocessing/worldcover_2020_merged.tif\"\n",
    "with rasterio.open(out_fp, \"w\", **out_meta) as dest:\n",
    "    dest.write(mosaic)\n"
   ]
  },
  {
   "cell_type": "markdown",
   "id": "729bfe0f",
   "metadata": {},
   "source": [
    "change the CRS of the merged raster to EPSG:2056"
   ]
  },
  {
   "cell_type": "code",
   "execution_count": 10,
   "id": "fb7489e2",
   "metadata": {},
   "outputs": [],
   "source": [
    "import rasterio\n",
    "from rasterio.warp import calculate_default_transform, reproject, Resampling\n"
   ]
  },
  {
   "cell_type": "markdown",
   "id": "2e391210",
   "metadata": {},
   "source": [
    "define input and output files"
   ]
  },
  {
   "cell_type": "code",
   "execution_count": 11,
   "id": "939112be",
   "metadata": {},
   "outputs": [],
   "source": [
    "# Input: merged raster still in EPSG:4326\n",
    "src_fp = \"data/2020/preprocessing/worldcover_2020_merged.tif\"\n",
    "\n",
    "# Output: reprojected raster\n",
    "dst_fp = \"data/2020/preprocessing/worldcover_2020_merged_epsg2056.tif\"\n"
   ]
  },
  {
   "cell_type": "markdown",
   "id": "d4e4e668",
   "metadata": {},
   "source": [
    "Open the source raster and perform the reprojection.\n",
    "This might take a while depending on the size of the raster and your computer performance"
   ]
  },
  {
   "cell_type": "code",
   "execution_count": 12,
   "id": "a2f2f741",
   "metadata": {},
   "outputs": [],
   "source": [
    "with rasterio.open(src_fp) as src:\n",
    "    transform, width, height = calculate_default_transform(\n",
    "        src.crs, \"EPSG:2056\", src.width, src.height, *src.bounds\n",
    "    )\n",
    "\n",
    "    kwargs = src.meta.copy()\n",
    "    kwargs.update({\n",
    "        \"crs\": \"EPSG:2056\",\n",
    "        \"transform\": transform,\n",
    "        \"width\": width,\n",
    "        \"height\": height\n",
    "    })\n",
    "\n",
    "    with rasterio.open(dst_fp, \"w\", **kwargs) as dst:\n",
    "        for i in range(1, src.count + 1):\n",
    "            reproject(\n",
    "                source=rasterio.band(src, i),\n",
    "                destination=rasterio.band(dst, i),\n",
    "                src_transform=src.transform,\n",
    "                src_crs=src.crs,\n",
    "                dst_transform=transform,\n",
    "                dst_crs=\"EPSG:2056\",\n",
    "                resampling=Resampling.nearest  # keep categorical values intact\n",
    "            )\n"
   ]
  },
  {
   "cell_type": "markdown",
   "id": "75acc380",
   "metadata": {},
   "source": [
    "Verify if the transformation was sucessful by checking the CRS"
   ]
  },
  {
   "cell_type": "code",
   "execution_count": 13,
   "id": "0029044b",
   "metadata": {},
   "outputs": [
    {
     "name": "stdout",
     "output_type": "stream",
     "text": [
      "EPSG:2056\n",
      "1 105382 51000\n"
     ]
    }
   ],
   "source": [
    "with rasterio.open(dst_fp) as r:\n",
    "    print(r.crs)\n",
    "    print(r.count, r.width, r.height)\n"
   ]
  },
  {
   "cell_type": "markdown",
   "id": "3a328954",
   "metadata": {},
   "source": [
    "load merged and transformed raster and geopakage with the buffered border"
   ]
  },
  {
   "cell_type": "code",
   "execution_count": 14,
   "id": "99e73615",
   "metadata": {},
   "outputs": [
    {
     "name": "stdout",
     "output_type": "stream",
     "text": [
      "EPSG:2056\n"
     ]
    }
   ],
   "source": [
    "import geopandas as gpd\n",
    "import rasterio\n",
    "from rasterio.mask import mask\n",
    "\n",
    "# Paths\n",
    "raster_path = \"data/2020/preprocessing/worldcover_2020_merged_epsg2056.tif\"\n",
    "mask_path = \"data/swiss_border_buffered_1km.gpkg\"\n",
    "\n",
    "# Read buffered border\n",
    "mask_gdf = gpd.read_file(mask_path)\n",
    "print(mask_gdf.crs)\n"
   ]
  },
  {
   "cell_type": "markdown",
   "id": "24739975",
   "metadata": {},
   "source": [
    " Convert mask geometries"
   ]
  },
  {
   "cell_type": "code",
   "execution_count": 15,
   "id": "0e5684c9",
   "metadata": {},
   "outputs": [],
   "source": [
    "mask_geom = [mask_gdf.union_all()]  # Combine if multiple polygons\n"
   ]
  },
  {
   "cell_type": "markdown",
   "id": "a40f729b",
   "metadata": {},
   "source": [
    "Clip (mask) the raster"
   ]
  },
  {
   "cell_type": "code",
   "execution_count": 16,
   "id": "a2850296",
   "metadata": {},
   "outputs": [],
   "source": [
    "with rasterio.open(raster_path) as src:\n",
    "    clipped_array, clipped_transform = mask(\n",
    "        dataset=src,\n",
    "        shapes=mask_geom,\n",
    "        crop=True,\n",
    "        nodata=0\n",
    "    )\n",
    "    clipped_meta = src.meta.copy()\n",
    "\n",
    "clipped_meta.update({\n",
    "    \"driver\": \"GTiff\",\n",
    "    \"height\": clipped_array.shape[1],\n",
    "    \"width\": clipped_array.shape[2],\n",
    "    \"transform\": clipped_transform,\n",
    "})"
   ]
  },
  {
   "cell_type": "markdown",
   "id": "3e1d83f8",
   "metadata": {},
   "source": [
    "Save the clipped raster"
   ]
  },
  {
   "cell_type": "code",
   "execution_count": 17,
   "id": "aae31649",
   "metadata": {},
   "outputs": [],
   "source": [
    "out_path = \"data/2020/preprocessing/worldcover_2020_clipped.tif\"\n",
    "with rasterio.open(out_path, \"w\", **clipped_meta) as dest:\n",
    "    dest.write(clipped_array)\n"
   ]
  },
  {
   "cell_type": "markdown",
   "id": "f2776f68",
   "metadata": {},
   "source": [
    "Now you should have a clipped raster of WorldCover 2020 for Switzerland with a 1km buffer around the border! If that is not the case feel free to reach out to my email: alexander.ruehli@students.fhnw.ch so we can cry about it together :)"
   ]
  }
 ],
 "metadata": {
  "kernelspec": {
   "display_name": "WC",
   "language": "python",
   "name": "python3"
  },
  "language_info": {
   "codemirror_mode": {
    "name": "ipython",
    "version": 3
   },
   "file_extension": ".py",
   "mimetype": "text/x-python",
   "name": "python",
   "nbconvert_exporter": "python",
   "pygments_lexer": "ipython3",
   "version": "3.10.19"
  }
 },
 "nbformat": 4,
 "nbformat_minor": 5
}
