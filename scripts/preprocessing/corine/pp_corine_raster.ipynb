{
 "cells": [
  {
   "cell_type": "markdown",
   "id": "0eac87d6",
   "metadata": {},
   "source": [
    "# CORINE Landover Preprocessing Notebook (Raster)"
   ]
  },
  {
   "cell_type": "markdown",
   "id": "ac379997",
   "metadata": {},
   "source": [
    "Create a python envionment with the Version 3.10 and activate it i.E:\n",
    "```\n",
    "conda create -n corine python=3.10\n",
    "conda activate corine\n",
    "conda install -c conda-forge rasterio geopandas shapely gdal\n",
    "```\n"
   ]
  },
  {
   "cell_type": "markdown",
   "id": "9a6873d4",
   "metadata": {},
   "source": [
    "load the border file using geopandas and check its CRS"
   ]
  },
  {
   "cell_type": "markdown",
   "id": "a3f2e7a3",
   "metadata": {},
   "source": [
    "## Python Imports"
   ]
  },
  {
   "cell_type": "code",
   "execution_count": 11,
   "id": "da23b358",
   "metadata": {},
   "outputs": [],
   "source": [
    "import os\n",
    "import rasterio\n",
    "import geopandas as gpd\n",
    "from shapely.geometry import Polygon, MultiPolygon\n",
    "from rasterio.mask import mask\n",
    "from rasterio.warp import calculate_default_transform, reproject, Resampling"
   ]
  },
  {
   "cell_type": "code",
   "execution_count": 12,
   "id": "cf2d0db5",
   "metadata": {},
   "outputs": [],
   "source": [
    "os.environ['PROJ_LIB'] = r\"C:\\Users\\LeonardoS\\miniconda3\\envs\\corine\\Library\\share\\proj\""
   ]
  },
  {
   "cell_type": "markdown",
   "id": "60ed7dee",
   "metadata": {},
   "source": [
    "## File Paths"
   ]
  },
  {
   "cell_type": "code",
   "execution_count": null,
   "id": "de676639",
   "metadata": {},
   "outputs": [],
   "source": [
    "# define vector data paths for swiss shape\n",
    "border_gpkg_path = \"../../data/base/swissBOUNDARIES3D/swissBOUNDARIES3D_1_5_LV95_LN02.gpkg\"\n",
    "\n",
    "# define raster data paths for corine \n",
    "input_raster_path = \"../../data/preprocessing/corine/2018/U2018_CLC2018_V2020_20u1.tif\"\n",
    "output_raster_path = \"../../data/analysis/corine/2018/U2018_CLC2018_V2020_20u1.tif\""
   ]
  },
  {
   "cell_type": "markdown",
   "id": "50424a1c",
   "metadata": {},
   "source": [
    "## Define Swiss Shape to clip CORINE Raster Data"
   ]
  },
  {
   "cell_type": "markdown",
   "id": "f9e72d5b",
   "metadata": {},
   "source": [
    "coordinate reprojection from wgs84 to lv95"
   ]
  },
  {
   "cell_type": "code",
   "execution_count": null,
   "id": "634edb30",
   "metadata": {},
   "outputs": [],
   "source": [
    "# read swiss shape layer from geopackage\n",
    "border_gdf = gpd.read_file(border_gpkg_path, layer=\"tlm_landesgebiet\")"
   ]
  },
  {
   "cell_type": "markdown",
   "id": "5ae81682",
   "metadata": {},
   "source": [
    "add 1000m buffer around swiss shape"
   ]
  },
  {
   "cell_type": "code",
   "execution_count": null,
   "id": "293da8a2",
   "metadata": {},
   "outputs": [],
   "source": [
    "# create a 1000m buffer around the swiss shape (without other countries in the dataset)\n",
    "buffered_border_gdf = border_gdf[border_gdf[\"icc\"] == \"CH\"].copy()\n",
    "buffered_border_gdf[\"geometry\"] = buffered_border_gdf.buffer(1000)"
   ]
  },
  {
   "cell_type": "markdown",
   "id": "f73e54ab",
   "metadata": {},
   "source": [
    "remove enclaves from swiss shape"
   ]
  },
  {
   "cell_type": "code",
   "execution_count": 16,
   "id": "8c5407b6",
   "metadata": {},
   "outputs": [
    {
     "name": "stderr",
     "output_type": "stream",
     "text": [
      "C:\\Users\\LeonardoS\\AppData\\Local\\Temp\\ipykernel_1292\\3789408810.py:2: ShapelyDeprecationWarning: The 'type' attribute is deprecated, and will be removed in the future. You can use the 'geom_type' attribute instead.\n",
      "  return Polygon(geom.exterior) if geom.type == 'Polygon' else MultiPolygon([Polygon(g.exterior) for g in geom.geoms])\n"
     ]
    }
   ],
   "source": [
    "def fill_all_holes(geom):\n",
    "    return Polygon(geom.exterior) if geom.type == 'Polygon' else MultiPolygon([Polygon(g.exterior) for g in geom.geoms])\n",
    "\n",
    "# fill empty areas from enlaves within the swiss shape\n",
    "buffered_border_gdf[\"geometry\"] = buffered_border_gdf.geometry.apply(fill_all_holes)"
   ]
  },
  {
   "cell_type": "markdown",
   "id": "914d56fc",
   "metadata": {},
   "source": [
    "## Clip CORINE Raster Data to Swiss Shape"
   ]
  },
  {
   "cell_type": "markdown",
   "id": "d4e4e668",
   "metadata": {},
   "source": [
    "coordinate reprojection from wgs84 to lv95"
   ]
  },
  {
   "cell_type": "code",
   "execution_count": 17,
   "id": "a2f2f741",
   "metadata": {},
   "outputs": [],
   "source": [
    "corine_raster_2056_path = \"../data/preprocessing/corine/temp_epsg2056.tif\"\n",
    "\n",
    "with rasterio.open(input_raster_path) as src:\n",
    "    \n",
    "    # calculate transformation matrix\n",
    "    transform, width, height = calculate_default_transform(\n",
    "        src.crs, \"EPSG:2056\", src.width, src.height, *src.bounds\n",
    "    )\n",
    "\n",
    "    # copy and transform metadata from source raster\n",
    "    kwargs = src.meta.copy()\n",
    "    kwargs.update({\n",
    "        \"crs\": \"EPSG:2056\",\n",
    "        \"transform\": transform,\n",
    "        \"width\": width,\n",
    "        \"height\": height\n",
    "    })\n",
    "    \n",
    "    # create output raster\n",
    "    with rasterio.open(corine_raster_2056_path, \"w\", **kwargs) as dst:\n",
    "        for i in range(1, src.count + 1):\n",
    "            reproject(\n",
    "                source=rasterio.band(src, i),\n",
    "                destination=rasterio.band(dst, i),\n",
    "                src_transform=src.transform,\n",
    "                src_crs=src.crs,\n",
    "                dst_transform=transform,\n",
    "                dst_crs=\"EPSG:2056\",\n",
    "                resampling=Resampling.nearest\n",
    "            )"
   ]
  },
  {
   "cell_type": "markdown",
   "id": "353033ff",
   "metadata": {},
   "source": [
    "clip raster to swiss shape"
   ]
  },
  {
   "cell_type": "code",
   "execution_count": 18,
   "id": "a2850296",
   "metadata": {},
   "outputs": [],
   "source": [
    "# create list from geodataframe (use union)\n",
    "buffered_border_mask= [buffered_border_gdf.union_all()]\n",
    "\n",
    "# cut raster to the swiss shape and copy metadata from source raster\n",
    "with rasterio.open(corine_raster_2056_path) as src:\n",
    "    clipped_array, clipped_transform = mask(\n",
    "        dataset=src,\n",
    "        shapes=buffered_border_mask,\n",
    "        crop=True,\n",
    "        nodata=0\n",
    "    )\n",
    "    clipped_meta = src.meta.copy()\n",
    "\n",
    "# update metadata for destination raster\n",
    "clipped_meta.update({\n",
    "    \"driver\": \"GTiff\",\n",
    "    \"height\": clipped_array.shape[1],\n",
    "    \"width\": clipped_array.shape[2],\n",
    "    \"transform\": clipped_transform,\n",
    "})\n",
    "\n",
    "os.remove(corine_raster_2056_path)"
   ]
  },
  {
   "cell_type": "markdown",
   "id": "5cfe188f",
   "metadata": {},
   "source": [
    "save raster with swiss shape"
   ]
  },
  {
   "cell_type": "code",
   "execution_count": 20,
   "id": "aae31649",
   "metadata": {},
   "outputs": [],
   "source": [
    "# save cliped raster with accurate metadata\n",
    "with rasterio.open(output_raster_path, \"w\", **clipped_meta) as dest:\n",
    "    dest.write(clipped_array)"
   ]
  }
 ],
 "metadata": {
  "kernelspec": {
   "display_name": "corine",
   "language": "python",
   "name": "python3"
  },
  "language_info": {
   "codemirror_mode": {
    "name": "ipython",
    "version": 3
   },
   "file_extension": ".py",
   "mimetype": "text/x-python",
   "name": "python",
   "nbconvert_exporter": "python",
   "pygments_lexer": "ipython3",
   "version": "3.10.19"
  }
 },
 "nbformat": 4,
 "nbformat_minor": 5
}
