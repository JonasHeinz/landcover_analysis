{
 "cells": [
  {
   "cell_type": "markdown",
   "id": "0eac87d6",
   "metadata": {},
   "source": [
    "# CORINE Landover Preprocessing Notebook (Vector)"
   ]
  },
  {
   "cell_type": "markdown",
   "id": "ac379997",
   "metadata": {},
   "source": [
    "Create a python envionment with the Version 3.10 and activate it i.E:\n",
    "```\n",
    "conda create -n corine python=3.10\n",
    "conda activate corine\n",
    "conda install -c conda-forge rasterio geopandas shapely gdal\n",
    "```\n"
   ]
  },
  {
   "cell_type": "markdown",
   "id": "9a6873d4",
   "metadata": {},
   "source": [
    "load the border file using geopandas and check its CRS"
   ]
  },
  {
   "cell_type": "markdown",
   "id": "6c331309",
   "metadata": {},
   "source": [
    "## Python Imports"
   ]
  },
  {
   "cell_type": "code",
   "execution_count": 15,
   "id": "cf2d0db5",
   "metadata": {},
   "outputs": [],
   "source": [
    "import geopandas as gpd\n",
    "from shapely.geometry import Polygon, MultiPolygon"
   ]
  },
  {
   "cell_type": "markdown",
   "id": "e556ada3",
   "metadata": {},
   "source": [
    "## File Paths"
   ]
  },
  {
   "cell_type": "code",
   "execution_count": null,
   "id": "de676639",
   "metadata": {},
   "outputs": [],
   "source": [
    "# define vector data paths for swiss shape\n",
    "border_gpkg_path = \"../../data/base/swissBOUNDARIES3D/swissBOUNDARIES3D_1_5_LV95_LN02.gpkg\"\n",
    "\n",
    "# define vector data paths for corine \n",
    "input_vector_path = \"../../data/preprocessing/corine/2018/U2018_CLC2018_V2020_20u1.gpkg\"\n",
    "output_vector_path = \"../../data/analysis/corine/2018/U2018_CLC2018_V2020_20u1.gpkg\"\n",
    "\n",
    "# define import \n",
    "input_vector_layer = \"U2018_CLC2018_V2020_20u1\""
   ]
  },
  {
   "cell_type": "markdown",
   "id": "50424a1c",
   "metadata": {},
   "source": [
    "## Define Swiss Shape to clip CORINE Vector Data"
   ]
  },
  {
   "cell_type": "markdown",
   "id": "c9d5ddd8",
   "metadata": {},
   "source": [
    "coordinate reprojection from wgs84 to lv95"
   ]
  },
  {
   "cell_type": "code",
   "execution_count": 17,
   "id": "634edb30",
   "metadata": {},
   "outputs": [],
   "source": [
    "# read swiss shape layer from geopackage\n",
    "border_gdf = gpd.read_file(border_gpkg_path, layer=\"tlm_landesgebiet\")"
   ]
  },
  {
   "cell_type": "markdown",
   "id": "41bda1c9",
   "metadata": {},
   "source": [
    "add 1000m buffer around swiss shape"
   ]
  },
  {
   "cell_type": "code",
   "execution_count": 18,
   "id": "dc89a600",
   "metadata": {},
   "outputs": [],
   "source": [
    "# create a 1000m buffer around the swiss shape (without other countries in the dataset)\n",
    "buffered_border_gdf = border_gdf[border_gdf[\"icc\"] == \"CH\"].copy()\n",
    "buffered_border_gdf[\"geometry\"] = buffered_border_gdf.buffer(1000)"
   ]
  },
  {
   "cell_type": "markdown",
   "id": "86d881f7",
   "metadata": {},
   "source": [
    "remove enclaves from swiss shape"
   ]
  },
  {
   "cell_type": "code",
   "execution_count": 19,
   "id": "8c5407b6",
   "metadata": {},
   "outputs": [
    {
     "name": "stderr",
     "output_type": "stream",
     "text": [
      "C:\\Users\\LeonardoS\\AppData\\Local\\Temp\\ipykernel_18524\\3789408810.py:2: ShapelyDeprecationWarning: The 'type' attribute is deprecated, and will be removed in the future. You can use the 'geom_type' attribute instead.\n",
      "  return Polygon(geom.exterior) if geom.type == 'Polygon' else MultiPolygon([Polygon(g.exterior) for g in geom.geoms])\n"
     ]
    }
   ],
   "source": [
    "def fill_all_holes(geom):\n",
    "    return Polygon(geom.exterior) if geom.type == 'Polygon' else MultiPolygon([Polygon(g.exterior) for g in geom.geoms])\n",
    "\n",
    "# fill empty areas from enlaves within the swiss shape\n",
    "buffered_border_gdf[\"geometry\"] = buffered_border_gdf.geometry.apply(fill_all_holes)"
   ]
  },
  {
   "cell_type": "markdown",
   "id": "914d56fc",
   "metadata": {},
   "source": [
    "## Clip CORINE Raster Data to Swiss Shape"
   ]
  },
  {
   "cell_type": "markdown",
   "id": "f280d8be",
   "metadata": {},
   "source": [
    "coordinate reprojection from wgs84 to lv95"
   ]
  },
  {
   "cell_type": "code",
   "execution_count": 20,
   "id": "3dd9336b",
   "metadata": {},
   "outputs": [],
   "source": [
    "# read swiss shape layer from geopackage\n",
    "corine_vector_gdf = gpd.read_file(\n",
    "    input_vector_path,\n",
    "    layer=input_vector_layer,\n",
    "    bbox=(3926000, 2445000, 4467000, 2878000)\n",
    ")\n",
    "\n",
    "# reproject input data\n",
    "corine_vector_gdf_2056 = corine_vector_gdf.to_crs(epsg=2056)"
   ]
  },
  {
   "cell_type": "markdown",
   "id": "353033ff",
   "metadata": {},
   "source": [
    "clip vector data to swiss shape"
   ]
  },
  {
   "cell_type": "code",
   "execution_count": 21,
   "id": "a2850296",
   "metadata": {},
   "outputs": [],
   "source": [
    "# remove all polygons which do intersect with the swiss shape\n",
    "corine_vector_gdf_clipped = gpd.sjoin(corine_vector_gdf_2056, buffered_border_gdf, predicate=\"intersects\", how=\"inner\")\n",
    "corine_vector_gdf_clipped = corine_vector_gdf_clipped[corine_vector_gdf_2056.columns]"
   ]
  },
  {
   "cell_type": "markdown",
   "id": "1a2d18a1",
   "metadata": {},
   "source": [
    "save vector data with swiss shape"
   ]
  },
  {
   "cell_type": "code",
   "execution_count": 22,
   "id": "c8b79647",
   "metadata": {},
   "outputs": [],
   "source": [
    "# save cliped vector data \n",
    "corine_vector_gdf_clipped.to_file(output_vector_path, driver=\"GPKG\")"
   ]
  }
 ],
 "metadata": {
  "kernelspec": {
   "display_name": "corine",
   "language": "python",
   "name": "python3"
  },
  "language_info": {
   "codemirror_mode": {
    "name": "ipython",
    "version": 3
   },
   "file_extension": ".py",
   "mimetype": "text/x-python",
   "name": "python",
   "nbconvert_exporter": "python",
   "pygments_lexer": "ipython3",
   "version": "3.10.19"
  }
 },
 "nbformat": 4,
 "nbformat_minor": 5
}
